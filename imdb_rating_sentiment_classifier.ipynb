{
 "cells": [
  {
   "cell_type": "code",
   "execution_count": 19,
   "metadata": {
    "ExecuteTime": {
     "end_time": "2019-07-06T03:42:03.181925Z",
     "start_time": "2019-07-06T03:42:03.175942Z"
    }
   },
   "outputs": [],
   "source": [
    "import json\n",
    "from pprint import pprint\n",
    "import pandas as pd \n",
    "import numpy as np\n",
    "import matplotlib.pyplot as plt\n",
    "import nltk\n",
    "from nltk.corpus import stopwords\n",
    "from sklearn.feature_extraction.text import TfidfVectorizer\n",
    "from sklearn.model_selection import train_test_split\n",
    "from sklearn.linear_model import LogisticRegression\n",
    "from sklearn.svm import LinearSVC\n",
    "from sklearn.metrics import confusion_matrix, accuracy_score\n",
    "import keras\n",
    "from keras.models import Sequential\n",
    "from keras.layers import Dense, Dropout, Flatten"
   ]
  },
  {
   "cell_type": "code",
   "execution_count": 2,
   "metadata": {
    "ExecuteTime": {
     "end_time": "2019-07-06T03:39:37.453844Z",
     "start_time": "2019-07-06T03:39:37.315212Z"
    }
   },
   "outputs": [],
   "source": [
    "# Import data\n",
    "with open('ratings.json') as data_file:\n",
    "    data = json.load(data_file)"
   ]
  },
  {
   "cell_type": "code",
   "execution_count": 3,
   "metadata": {
    "ExecuteTime": {
     "end_time": "2019-07-06T03:39:37.816919Z",
     "start_time": "2019-07-06T03:39:37.812930Z"
    }
   },
   "outputs": [
    {
     "name": "stdout",
     "output_type": "stream",
     "text": [
      "33671\n"
     ]
    }
   ],
   "source": [
    "print(len(data))"
   ]
  },
  {
   "cell_type": "code",
   "execution_count": 4,
   "metadata": {
    "ExecuteTime": {
     "end_time": "2019-07-06T03:39:38.966030Z",
     "start_time": "2019-07-06T03:39:38.804360Z"
    }
   },
   "outputs": [],
   "source": [
    "ratings = [eval(elem['ratings']) for elem in data]\n",
    "reviews = [elem['review_text'] for elem in data]"
   ]
  },
  {
   "cell_type": "code",
   "execution_count": 5,
   "metadata": {
    "ExecuteTime": {
     "end_time": "2019-07-06T03:39:39.473944Z",
     "start_time": "2019-07-06T03:39:39.320355Z"
    }
   },
   "outputs": [
    {
     "data": {
      "image/png": "[encoded data removed]",
      "text/plain": [
       "<Figure size 432x288 with 1 Axes>"
      ]
     },
     "metadata": {
      "needs_background": "light"
     },
     "output_type": "display_data"
    }
   ],
   "source": [
    "plt.hist(ratings, bins=np.arange(min(ratings), max(ratings) + 1))\n",
    "plt.show()"
   ]
  },
  {
   "cell_type": "code",
   "execution_count": 6,
   "metadata": {
    "ExecuteTime": {
     "end_time": "2019-07-06T03:39:47.958239Z",
     "start_time": "2019-07-06T03:39:47.921336Z"
    }
   },
   "outputs": [],
   "source": [
    "df = pd.DataFrame({'rating':ratings, 'review': reviews})\n",
    "df['type'] = df['rating'].apply(lambda x: 1 if x > 5 else 0) # greater than 5 -> positive, otherwise -> negative"
   ]
  },
  {
   "cell_type": "code",
   "execution_count": 7,
   "metadata": {
    "ExecuteTime": {
     "end_time": "2019-07-06T03:39:53.333709Z",
     "start_time": "2019-07-06T03:39:53.324760Z"
    }
   },
   "outputs": [],
   "source": [
    "y = np.array(df['type'].tolist())\n",
    "corpus = df['review'].tolist()"
   ]
  },
  {
   "cell_type": "code",
   "execution_count": 91,
   "metadata": {
    "ExecuteTime": {
     "end_time": "2019-07-06T03:52:25.315342Z",
     "start_time": "2019-07-06T03:52:23.235905Z"
    }
   },
   "outputs": [],
   "source": [
    "# Creating the Tf-Idf model\n",
    "vectorizer = TfidfVectorizer(max_features=2000, min_df=3, max_df=0.6, stop_words=stopwords.words('english'))\n",
    "X = vectorizer.fit_transform(corpus).toarray()"
   ]
  },
  {
   "cell_type": "code",
   "execution_count": 92,
   "metadata": {
    "ExecuteTime": {
     "end_time": "2019-07-06T03:52:26.014946Z",
     "start_time": "2019-07-06T03:52:26.010985Z"
    }
   },
   "outputs": [
    {
     "name": "stdout",
     "output_type": "stream",
     "text": [
      "(33671, 2000)\n",
      "(33671,)\n"
     ]
    }
   ],
   "source": [
    "print(X.shape)\n",
    "print(y.shape)"
   ]
  },
  {
   "cell_type": "code",
   "execution_count": 103,
   "metadata": {
    "ExecuteTime": {
     "end_time": "2019-07-06T03:53:18.986702Z",
     "start_time": "2019-07-06T03:53:18.632623Z"
    }
   },
   "outputs": [],
   "source": [
    "# Splitting the dataset into the Training set and Test set\n",
    "text_train, text_test, sent_train, sent_test = train_test_split(X, y, test_size=0.3, random_state=0)"
   ]
  },
  {
   "cell_type": "code",
   "execution_count": 104,
   "metadata": {
    "ExecuteTime": {
     "end_time": "2019-07-06T03:53:20.204407Z",
     "start_time": "2019-07-06T03:53:20.199447Z"
    }
   },
   "outputs": [
    {
     "name": "stdout",
     "output_type": "stream",
     "text": [
      "(23569, 2000)\n",
      "(23569,)\n",
      "(10102, 2000)\n",
      "(10102,)\n"
     ]
    }
   ],
   "source": [
    "print(text_train.shape)\n",
    "print(sent_train.shape)\n",
    "print(text_test.shape)\n",
    "print(sent_test.shape)"
   ]
  },
  {
   "cell_type": "code",
   "execution_count": 105,
   "metadata": {
    "ExecuteTime": {
     "end_time": "2019-07-06T03:53:20.629674Z",
     "start_time": "2019-07-06T03:53:20.625657Z"
    }
   },
   "outputs": [],
   "source": [
    "sent_train_nn = sent_train.reshape(sent_train.size, 1)\n",
    "sent_test_nn = sent_test.reshape(sent_test.size, 1)"
   ]
  },
  {
   "cell_type": "code",
   "execution_count": 106,
   "metadata": {
    "ExecuteTime": {
     "end_time": "2019-07-06T03:53:21.006953Z",
     "start_time": "2019-07-06T03:53:21.001965Z"
    }
   },
   "outputs": [
    {
     "name": "stdout",
     "output_type": "stream",
     "text": [
      "(23569, 1)\n",
      "(10102, 1)\n"
     ]
    }
   ],
   "source": [
    "print(sent_train_nn.shape)\n",
    "print(sent_test_nn.shape)"
   ]
  },
  {
   "cell_type": "code",
   "execution_count": 107,
   "metadata": {
    "ExecuteTime": {
     "end_time": "2019-07-06T03:53:24.515682Z",
     "start_time": "2019-07-06T03:53:21.484817Z"
    }
   },
   "outputs": [
    {
     "data": {
      "text/plain": [
       "LogisticRegression(C=1.0, class_weight=None, dual=False, fit_intercept=True,\n",
       "                   intercept_scaling=1, l1_ratio=None, max_iter=100,\n",
       "                   multi_class='warn', n_jobs=None, penalty='l2',\n",
       "                   random_state=None, solver='lbfgs', tol=0.0001, verbose=0,\n",
       "                   warm_start=False)"
      ]
     },
     "execution_count": 107,
     "metadata": {},
     "output_type": "execute_result"
    }
   ],
   "source": [
    "# Training the classifier\n",
    "classifier = LogisticRegression(solver='lbfgs')\n",
    "classifier.fit(text_train,sent_train)"
   ]
  },
  {
   "cell_type": "code",
   "execution_count": 108,
   "metadata": {
    "ExecuteTime": {
     "end_time": "2019-07-06T03:53:24.569538Z",
     "start_time": "2019-07-06T03:53:24.517677Z"
    }
   },
   "outputs": [
    {
     "data": {
      "text/plain": [
       "0.7511383884379331"
      ]
     },
     "execution_count": 108,
     "metadata": {},
     "output_type": "execute_result"
    }
   ],
   "source": [
    "# Testing model performance\n",
    "sent_pred = classifier.predict(text_test)\n",
    "cm = confusion_matrix(sent_test, sent_pred)\n",
    "accuracy_score(sent_pred, sent_test, normalize=True)"
   ]
  },
  {
   "cell_type": "code",
   "execution_count": 109,
   "metadata": {
    "ExecuteTime": {
     "end_time": "2019-07-06T03:53:26.957564Z",
     "start_time": "2019-07-06T03:53:26.759125Z"
    }
   },
   "outputs": [
    {
     "data": {
      "text/plain": [
       "LinearSVC(C=0.1, class_weight=None, dual=True, fit_intercept=True,\n",
       "          intercept_scaling=1, loss='squared_hinge', max_iter=1000,\n",
       "          multi_class='ovr', penalty='l2', random_state=None, tol=0.0001,\n",
       "          verbose=0)"
      ]
     },
     "execution_count": 109,
     "metadata": {},
     "output_type": "execute_result"
    }
   ],
   "source": [
    "# Using LinearSVC\n",
    "classifier_linearSVC = LinearSVC(C=0.1)\n",
    "classifier_linearSVC.fit(text_train, sent_train)"
   ]
  },
  {
   "cell_type": "code",
   "execution_count": 110,
   "metadata": {
    "ExecuteTime": {
     "end_time": "2019-07-06T03:53:27.255769Z",
     "start_time": "2019-07-06T03:53:27.203911Z"
    }
   },
   "outputs": [
    {
     "data": {
      "text/plain": [
       "0.7532171847158978"
      ]
     },
     "execution_count": 110,
     "metadata": {},
     "output_type": "execute_result"
    }
   ],
   "source": [
    "# Testing model performance\n",
    "sent_pred_LinearSVC = classifier_linearSVC.predict(text_test)\n",
    "confusion_matrix(sent_test, sent_pred_LinearSVC)\n",
    "accuracy_score(sent_pred_LinearSVC, sent_test, normalize=True)"
   ]
  },
  {
   "cell_type": "code",
   "execution_count": 115,
   "metadata": {
    "ExecuteTime": {
     "end_time": "2019-07-06T03:54:33.570306Z",
     "start_time": "2019-07-06T03:54:33.566316Z"
    }
   },
   "outputs": [],
   "source": [
    "batch_size = 32\n",
    "epochs = 10"
   ]
  },
  {
   "cell_type": "code",
   "execution_count": 123,
   "metadata": {
    "ExecuteTime": {
     "end_time": "2019-07-06T03:58:27.249565Z",
     "start_time": "2019-07-06T03:58:07.595129Z"
    }
   },
   "outputs": [
    {
     "name": "stdout",
     "output_type": "stream",
     "text": [
      "Train on 23569 samples, validate on 10102 samples\n",
      "Epoch 1/10\n",
      "23569/23569 [==============================] - 3s 123us/step - loss: 0.5600 - acc: 0.7390 - val_loss: 0.5376 - val_acc: 0.7416\n",
      "Epoch 2/10\n",
      "23569/23569 [==============================] - 2s 74us/step - loss: 0.5287 - acc: 0.7490 - val_loss: 0.5338 - val_acc: 0.7423\n",
      "Epoch 3/10\n",
      "23569/23569 [==============================] - 2s 75us/step - loss: 0.5205 - acc: 0.7524 - val_loss: 0.5330 - val_acc: 0.7411\n",
      "Epoch 4/10\n",
      "23569/23569 [==============================] - 2s 82us/step - loss: 0.5157 - acc: 0.7564 - val_loss: 0.5333 - val_acc: 0.7427\n",
      "Epoch 5/10\n",
      "23569/23569 [==============================] - 2s 77us/step - loss: 0.5093 - acc: 0.7627 - val_loss: 0.5321 - val_acc: 0.7439\n",
      "Epoch 6/10\n",
      "23569/23569 [==============================] - 2s 73us/step - loss: 0.5068 - acc: 0.7669 - val_loss: 0.5301 - val_acc: 0.7535\n",
      "Epoch 7/10\n",
      "23569/23569 [==============================] - 2s 75us/step - loss: 0.5025 - acc: 0.7698 - val_loss: 0.5304 - val_acc: 0.7542\n",
      "Epoch 8/10\n",
      "23569/23569 [==============================] - 2s 79us/step - loss: 0.4979 - acc: 0.7746 - val_loss: 0.5294 - val_acc: 0.7558\n",
      "Epoch 9/10\n",
      "23569/23569 [==============================] - 2s 77us/step - loss: 0.4951 - acc: 0.7760 - val_loss: 0.5288 - val_acc: 0.7570\n",
      "Epoch 10/10\n",
      "23569/23569 [==============================] - 2s 73us/step - loss: 0.4918 - acc: 0.7785 - val_loss: 0.5300 - val_acc: 0.7572\n",
      "Test loss: 0.5299937317711697\n",
      "Test accuracy: 0.7571767966621253\n"
     ]
    }
   ],
   "source": [
    "model = Sequential()\n",
    "model.add(Dense(32, activation=\"relu\"))\n",
    "model.add(Dropout(0.3))\n",
    "model.add(Dense(1, activation=\"sigmoid\"))\n",
    "model.compile(optimizer='rmsprop', loss='binary_crossentropy', metrics=['accuracy'])\n",
    "\n",
    "model.fit(\n",
    "    text_train,\n",
    "    sent_train_nn,\n",
    "    batch_size=batch_size,\n",
    "    epochs=epochs,\n",
    "    verbose=1,\n",
    "    validation_data=(text_test, sent_test_nn),\n",
    ")\n",
    "score = model.evaluate(text_test, sent_test_nn, verbose=0)\n",
    "print(\"Test loss:\", score[0])\n",
    "print(\"Test accuracy:\", score[1])"
   ]
  },
  {
   "cell_type": "code",
   "execution_count": null,
   "metadata": {},
   "outputs": [],
   "source": []
  }
 ],
 "metadata": {
  "kernelspec": {
   "display_name": "Python 3",
   "language": "python",
   "name": "python3"
  },
  "language_info": {
   "codemirror_mode": {
    "name": "ipython",
    "version": 3
   },
   "file_extension": ".py",
   "mimetype": "text/x-python",
   "name": "python",
   "nbconvert_exporter": "python",
   "pygments_lexer": "ipython3",
   "version": "3.7.3"
  }
 },
 "nbformat": 4,
 "nbformat_minor": 2
}
